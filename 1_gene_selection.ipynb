{
 "cells": [
  {
   "cell_type": "markdown",
   "metadata": {},
   "source": [
    "## Selection for genes\n",
    "With greater than one fold change and the change has p-value smaller than 0.05"
   ]
  },
  {
   "cell_type": "code",
   "execution_count": 1,
   "metadata": {},
   "outputs": [],
   "source": [
    "geneSele <- function(fileName, pValue = 0.05, logFC = 1) {\n",
    "    geneList <- read.csv(file.path(\"GeneLists\", paste0(fileName, \".csv\")), sep=\"\\t\")\n",
    "    res <- geneList[which(geneList[[\"adj.P.Val\"]] < pValue & abs(geneList[[\"logFC\"]]) > logFC), ]\n",
    "    return(res)\n",
    "}\n",
    "\n",
    "writeGeneList <- function(fileName, ...) {\n",
    "    geneList <- geneSele(fileName, ...)\n",
    "    res <- geneList[, \"Gene.symbol\"]\n",
    "    res <- unique(as.character(res))\n",
    "    writeLines(res, file.path(\"GeneLists\", paste0(fileName, \".txt\")))\n",
    "}"
   ]
  },
  {
   "cell_type": "code",
   "execution_count": 2,
   "metadata": {},
   "outputs": [],
   "source": [
    "writeGeneList(\"healthy_vs_diseased\")\n",
    "writeGeneList(\"placebo_no_response_w0_vs_w6\")\n",
    "writeGeneList(\"placebo_responsed_vs_no_response\")\n",
    "writeGeneList(\"placebo_responsed_w0_vs_w6\")\n",
    "writeGeneList(\"treated_no_response_w0_vs_w6\")\n",
    "writeGeneList(\"treated_responsed_vs_no_response\")\n",
    "writeGeneList(\"treated_responsed_w0_vs_w6\")"
   ]
  },
  {
   "cell_type": "code",
   "execution_count": 3,
   "metadata": {},
   "outputs": [],
   "source": [
    "treated_responsed <- geneSele(\"treated_responsed_w0_vs_w6\")\n",
    "treated_responsed <- treated_responsed[, c(\"Gene.symbol\", \"logFC\")]\n",
    "\n",
    "write.table(\n",
    "    x = treated_responsed,\n",
    "    file = file.path(\"DrugResponseGenes\", \"node_annotation.csv\"),\n",
    "    row.names = FALSE,\n",
    "    sep = \",\"\n",
    ")"
   ]
  },
  {
   "cell_type": "code",
   "execution_count": 8,
   "metadata": {},
   "outputs": [],
   "source": [
    "diseased_hubgene <- read.csv(file.path(\"DiseasedGenes\", \"hubGenes.csv\"), skip = 1)\n",
    "\n",
    "diseased <- geneSele(\"healthy_vs_diseased\")"
   ]
  },
  {
   "cell_type": "code",
   "execution_count": 5,
   "metadata": {},
   "outputs": [
    {
     "data": {
      "text/html": [
       "<ol class=list-inline>\n",
       "\t<li>'MMP9'</li>\n",
       "\t<li>'CXCL13'</li>\n",
       "</ol>\n"
      ],
      "text/latex": [
       "\\begin{enumerate*}\n",
       "\\item 'MMP9'\n",
       "\\item 'CXCL13'\n",
       "\\end{enumerate*}\n"
      ],
      "text/markdown": [
       "1. 'MMP9'\n",
       "2. 'CXCL13'\n",
       "\n",
       "\n"
      ],
      "text/plain": [
       "[1] \"MMP9\"   \"CXCL13\""
      ]
     },
     "metadata": {},
     "output_type": "display_data"
    }
   ],
   "source": [
    "set1 <- treated_responsed$Gene.symbol\n",
    "set2 <- as.character(diseased_hubgene$Name)\n",
    "# set2 <- diseased$Gene.symbol\n",
    "\n",
    "overlapped <- intersect(set1, set2)\n",
    "overlapped"
   ]
  },
  {
   "cell_type": "code",
   "execution_count": 6,
   "metadata": {},
   "outputs": [],
   "source": [
    "diseased_ppi <- read.table(file.path(\"DiseasedGenes\", \"ppi_network.tsv\"), sep = \"\\t\")"
   ]
  },
  {
   "cell_type": "code",
   "execution_count": 16,
   "metadata": {},
   "outputs": [
    {
     "data": {
      "text/html": [
       "1543"
      ],
      "text/latex": [
       "1543"
      ],
      "text/markdown": [
       "1543"
      ],
      "text/plain": [
       "[1] 1543"
      ]
     },
     "metadata": {},
     "output_type": "display_data"
    },
    {
     "data": {
      "text/html": [
       "923"
      ],
      "text/latex": [
       "923"
      ],
      "text/markdown": [
       "923"
      ],
      "text/plain": [
       "[1] 923"
      ]
     },
     "metadata": {},
     "output_type": "display_data"
    }
   ],
   "source": [
    "length(unique(diseased$Gene.symbol))\n",
    "length(unique(c(as.character(diseased_ppi[[1]]), as.character(diseased_ppi[[2]]))))"
   ]
  },
  {
   "cell_type": "code",
   "execution_count": 10,
   "metadata": {},
   "outputs": [],
   "source": [
    "responsed_ppi <- read.table(file.path(\"DrugResponseGenes\", \"ppi_network.tsv\"), sep = \"\\t\")"
   ]
  },
  {
   "cell_type": "code",
   "execution_count": 14,
   "metadata": {},
   "outputs": [
    {
     "data": {
      "text/html": [
       "40"
      ],
      "text/latex": [
       "40"
      ],
      "text/markdown": [
       "40"
      ],
      "text/plain": [
       "[1] 40"
      ]
     },
     "metadata": {},
     "output_type": "display_data"
    },
    {
     "data": {
      "text/html": [
       "14"
      ],
      "text/latex": [
       "14"
      ],
      "text/markdown": [
       "14"
      ],
      "text/plain": [
       "[1] 14"
      ]
     },
     "metadata": {},
     "output_type": "display_data"
    }
   ],
   "source": [
    "length(unique(treated_responsed$Gene.symbol))\n",
    "length(unique(c(as.character(responsed_ppi[[1]]), as.character(responsed_ppi[[2]]))))"
   ]
  }
 ],
 "metadata": {
  "kernelspec": {
   "display_name": "R",
   "language": "R",
   "name": "ir"
  },
  "language_info": {
   "codemirror_mode": "r",
   "file_extension": ".r",
   "mimetype": "text/x-r-source",
   "name": "R",
   "pygments_lexer": "r",
   "version": "3.6.1"
  }
 },
 "nbformat": 4,
 "nbformat_minor": 2
}
